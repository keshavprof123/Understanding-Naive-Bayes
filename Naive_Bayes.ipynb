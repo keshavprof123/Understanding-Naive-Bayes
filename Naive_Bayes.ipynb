{
  "nbformat": 4,
  "nbformat_minor": 0,
  "metadata": {
    "colab": {
      "provenance": [],
      "authorship_tag": "ABX9TyNVsbd0xoM1Av7ypZMNC6Yg"
    },
    "kernelspec": {
      "name": "python3",
      "display_name": "Python 3"
    },
    "language_info": {
      "name": "python"
    }
  },
  "cells": [
    {
      "cell_type": "code",
      "execution_count": null,
      "metadata": {
        "id": "A-CTaDbzHfSM"
      },
      "outputs": [],
      "source": [
        "import pandas as pd\n",
        "import numpy as np"
      ]
    },
    {
      "cell_type": "code",
      "source": [
        "data = {\n",
        "  \"Outlook\": [\"Sunny\", \"Sunny\", \"Overcast\", \"Rainy\", \"Rainy\", \"Rainy\", \"Overcast\", \"Sunny\", \"Sunny\", \"Rainy\", \"Overcast\", \"Overcast\", \"Sunny\"],\n",
        "  \"Temperature\": [\"Hot\", \"Hot\", \"Hot\", \"Mild\", \"Cool\", \"Cool\", \"Cool\", \"Mild\", \"Cool\", \"Mild\", \"Mild\", \"Hot\", \"Mild\"],\n",
        "  \"Humidity\": [\"High\", \"High\", \"High\", \"High\", \"Normal\", \"Normal\", \"Normal\", \"High\", \"Normal\", \"Normal\", \"High\", \"Normal\", \"High\"],\n",
        "  \"Wind\": [\"Weak\", \"Strong\", \"Weak\", \"Weak\", \"Weak\", \"Strong\", \"Strong\", \"Weak\", \"Weak\", \"Strong\", \"Weak\", \"Strong\", \"Weak\"],\n",
        "  \"PlayTennis\": [\"No\", \"No\", \"Yes\", \"Yes\", \"Yes\", \"No\", \"Yes\", \"No\", \"Yes\", \"Yes\", \"Yes\", \"Yes\", \"No\"]\n",
        "}\n",
        "\n",
        "df = pd.DataFrame(data)\n",
        "\n",
        "\n",
        "df = pd.get_dummies(df, columns=[\"Outlook\", \"Temperature\", \"Humidity\", \"Wind\"])\n",
        "\n",
        "\n",
        "X = df.drop(\"PlayTennis\", axis=1)\n",
        "y = df[\"PlayTennis\"]\n",
        "\n",
        "\n",
        "from sklearn.naive_bayes import GaussianNB\n",
        "model = GaussianNB()\n",
        "model.fit(X, y)\n",
        "\n",
        "\n",
        "y_pred = model.predict(X)\n",
        "print(y_pred)\n",
        "\n",
        "from sklearn.metrics import accuracy_score\n",
        "accuracy = accuracy_score(y, y_pred)\n",
        "print(f\"Accuracy: {accuracy:.2f}\")"
      ],
      "metadata": {
        "colab": {
          "base_uri": "https://localhost:8080/"
        },
        "id": "58JFtSDRI7cj",
        "outputId": "5eb348bc-2dd8-4903-8913-62b03474455b"
      },
      "execution_count": null,
      "outputs": [
        {
          "output_type": "stream",
          "name": "stdout",
          "text": [
            "['No' 'No' 'Yes' 'No' 'No' 'No' 'Yes' 'No' 'No' 'No' 'Yes' 'Yes' 'No']\n",
            "Accuracy: 0.69\n"
          ]
        }
      ]
    }
  ]
}